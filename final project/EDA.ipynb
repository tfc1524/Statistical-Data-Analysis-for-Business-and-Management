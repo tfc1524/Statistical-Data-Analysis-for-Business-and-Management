{
 "cells": [
  {
   "cell_type": "code",
   "execution_count": 1,
   "id": "77a644fd",
   "metadata": {},
   "outputs": [],
   "source": [
    "import pandas as pd\n",
    "import numpy as np\n",
    "\n",
    "%run function.ipynb"
   ]
  },
  {
   "cell_type": "code",
   "execution_count": 2,
   "id": "d656864b",
   "metadata": {},
   "outputs": [
    {
     "name": "stderr",
     "output_type": "stream",
     "text": [
      "c:\\users\\jack\\appdata\\local\\programs\\python\\python39\\lib\\site-packages\\IPython\\core\\interactiveshell.py:3169: DtypeWarning: Columns (3,4,6,7,8,9) have mixed types.Specify dtype option on import or set low_memory=False.\n",
      "  has_raised = await self.run_ast_nodes(code_ast.body, cell_name,\n"
     ]
    }
   ],
   "source": [
    "df = pd.read_csv('NTU_Drug.csv')\n",
    "df_copy = df.copy()"
   ]
  },
  {
   "cell_type": "code",
   "execution_count": 3,
   "id": "02028e37",
   "metadata": {},
   "outputs": [
    {
     "name": "stdout",
     "output_type": "stream",
     "text": [
      "(7570466, 11)\n"
     ]
    },
    {
     "data": {
      "text/html": [
       "<div>\n",
       "<style scoped>\n",
       "    .dataframe tbody tr th:only-of-type {\n",
       "        vertical-align: middle;\n",
       "    }\n",
       "\n",
       "    .dataframe tbody tr th {\n",
       "        vertical-align: top;\n",
       "    }\n",
       "\n",
       "    .dataframe thead th {\n",
       "        text-align: right;\n",
       "    }\n",
       "</style>\n",
       "<table border=\"1\" class=\"dataframe\">\n",
       "  <thead>\n",
       "    <tr style=\"text-align: right;\">\n",
       "      <th></th>\n",
       "      <th>datetime_UTC_8</th>\n",
       "      <th>deviceid</th>\n",
       "      <th>channel</th>\n",
       "      <th>invo_idx</th>\n",
       "      <th>id</th>\n",
       "      <th>name</th>\n",
       "      <th>quant</th>\n",
       "      <th>uniprice</th>\n",
       "      <th>totprice</th>\n",
       "      <th>invo_price</th>\n",
       "      <th>county_district</th>\n",
       "    </tr>\n",
       "  </thead>\n",
       "  <tbody>\n",
       "    <tr>\n",
       "      <th>0</th>\n",
       "      <td>2021-02-14 16:40:00</td>\n",
       "      <td>17fd576a018ef61b1d78e9e7f6188fe479597faa</td>\n",
       "      <td>寶雅國際</td>\n",
       "      <td>68879107</td>\n",
       "      <td>1</td>\n",
       "      <td>媚點 零瑕美肌粧前乳(綠) 30g</td>\n",
       "      <td>1</td>\n",
       "      <td>220.0</td>\n",
       "      <td>220.0</td>\n",
       "      <td>736</td>\n",
       "      <td>臺中市大里區</td>\n",
       "    </tr>\n",
       "    <tr>\n",
       "      <th>1</th>\n",
       "      <td>2021-02-17 13:09:00</td>\n",
       "      <td>0e01fa942bec0321508e8c4bfb70261ba0d5c801</td>\n",
       "      <td>寶雅國際</td>\n",
       "      <td>74182246</td>\n",
       "      <td>6</td>\n",
       "      <td>折扣金額</td>\n",
       "      <td>1</td>\n",
       "      <td>-14.0</td>\n",
       "      <td>-14.0</td>\n",
       "      <td>124</td>\n",
       "      <td>臺中市大雅區</td>\n",
       "    </tr>\n",
       "    <tr>\n",
       "      <th>2</th>\n",
       "      <td>2021-02-27 21:58:00</td>\n",
       "      <td>358c116a685ba7a488820d54a7fd079234c89fc7</td>\n",
       "      <td>寶雅國際</td>\n",
       "      <td>45028186</td>\n",
       "      <td>6</td>\n",
       "      <td>do it now鋼繩伸縮吊環</td>\n",
       "      <td>1</td>\n",
       "      <td>60.0</td>\n",
       "      <td>60.0</td>\n",
       "      <td>1299</td>\n",
       "      <td>臺中市太平區</td>\n",
       "    </tr>\n",
       "    <tr>\n",
       "      <th>3</th>\n",
       "      <td>2021-02-18 17:36:00</td>\n",
       "      <td>871a78f697ddb680af42b5480f66cfdacef061f0</td>\n",
       "      <td>寶雅國際</td>\n",
       "      <td>37918202</td>\n",
       "      <td>6</td>\n",
       "      <td>思波綺瞬亮潤澤潤髮乳490ml</td>\n",
       "      <td>1</td>\n",
       "      <td>204.0</td>\n",
       "      <td>204.0</td>\n",
       "      <td>841</td>\n",
       "      <td>臺中市北　區</td>\n",
       "    </tr>\n",
       "    <tr>\n",
       "      <th>4</th>\n",
       "      <td>2021-02-21 20:15:00</td>\n",
       "      <td>7befa2b42131a70007d131731cecfbb4cb5cfd53</td>\n",
       "      <td>寶雅國際</td>\n",
       "      <td>39872805</td>\n",
       "      <td>6</td>\n",
       "      <td>折扣金額</td>\n",
       "      <td>1</td>\n",
       "      <td>-99.0</td>\n",
       "      <td>-99.0</td>\n",
       "      <td>306</td>\n",
       "      <td>臺中市北　區</td>\n",
       "    </tr>\n",
       "  </tbody>\n",
       "</table>\n",
       "</div>"
      ],
      "text/plain": [
       "        datetime_UTC_8                                  deviceid channel  \\\n",
       "0  2021-02-14 16:40:00  17fd576a018ef61b1d78e9e7f6188fe479597faa    寶雅國際   \n",
       "1  2021-02-17 13:09:00  0e01fa942bec0321508e8c4bfb70261ba0d5c801    寶雅國際   \n",
       "2  2021-02-27 21:58:00  358c116a685ba7a488820d54a7fd079234c89fc7    寶雅國際   \n",
       "3  2021-02-18 17:36:00  871a78f697ddb680af42b5480f66cfdacef061f0    寶雅國際   \n",
       "4  2021-02-21 20:15:00  7befa2b42131a70007d131731cecfbb4cb5cfd53    寶雅國際   \n",
       "\n",
       "   invo_idx id               name quant uniprice totprice invo_price  \\\n",
       "0  68879107  1  媚點 零瑕美肌粧前乳(綠) 30g     1    220.0    220.0        736   \n",
       "1  74182246  6               折扣金額     1    -14.0    -14.0        124   \n",
       "2  45028186  6    do it now鋼繩伸縮吊環     1     60.0     60.0       1299   \n",
       "3  37918202  6    思波綺瞬亮潤澤潤髮乳490ml     1    204.0    204.0        841   \n",
       "4  39872805  6               折扣金額     1    -99.0    -99.0        306   \n",
       "\n",
       "  county_district  \n",
       "0          臺中市大里區  \n",
       "1          臺中市大雅區  \n",
       "2          臺中市太平區  \n",
       "3          臺中市北　區  \n",
       "4          臺中市北　區  "
      ]
     },
     "execution_count": 3,
     "metadata": {},
     "output_type": "execute_result"
    }
   ],
   "source": [
    "print(df_copy.shape)\n",
    "df_copy.head(5)"
   ]
  },
  {
   "cell_type": "code",
   "execution_count": 4,
   "id": "1d371d4b",
   "metadata": {},
   "outputs": [
    {
     "data": {
      "text/html": [
       "<div>\n",
       "<style scoped>\n",
       "    .dataframe tbody tr th:only-of-type {\n",
       "        vertical-align: middle;\n",
       "    }\n",
       "\n",
       "    .dataframe tbody tr th {\n",
       "        vertical-align: top;\n",
       "    }\n",
       "\n",
       "    .dataframe thead th {\n",
       "        text-align: right;\n",
       "    }\n",
       "</style>\n",
       "<table border=\"1\" class=\"dataframe\">\n",
       "  <thead>\n",
       "    <tr style=\"text-align: right;\">\n",
       "      <th></th>\n",
       "      <th>Missing Ratio</th>\n",
       "    </tr>\n",
       "  </thead>\n",
       "  <tbody>\n",
       "    <tr>\n",
       "      <th>channel</th>\n",
       "      <td>0.001171</td>\n",
       "    </tr>\n",
       "    <tr>\n",
       "      <th>county_district</th>\n",
       "      <td>0.000478</td>\n",
       "    </tr>\n",
       "  </tbody>\n",
       "</table>\n",
       "</div>"
      ],
      "text/plain": [
       "                 Missing Ratio\n",
       "channel               0.001171\n",
       "county_district       0.000478"
      ]
     },
     "execution_count": 4,
     "metadata": {},
     "output_type": "execute_result"
    }
   ],
   "source": [
    "na_check(df_copy)"
   ]
  },
  {
   "cell_type": "code",
   "execution_count": 5,
   "id": "acb83e71",
   "metadata": {},
   "outputs": [],
   "source": [
    "df_copy = df_copy.dropna()\n",
    "df_copy = df_copy[df_copy['name'] != '折扣金額']"
   ]
  },
  {
   "cell_type": "code",
   "execution_count": 6,
   "id": "97b60f22",
   "metadata": {},
   "outputs": [
    {
     "data": {
      "text/plain": [
       "datetime_UTC_8     object\n",
       "deviceid           object\n",
       "channel            object\n",
       "invo_idx           object\n",
       "id                 object\n",
       "name               object\n",
       "quant              object\n",
       "uniprice           object\n",
       "totprice           object\n",
       "invo_price         object\n",
       "county_district    object\n",
       "dtype: object"
      ]
     },
     "execution_count": 6,
     "metadata": {},
     "output_type": "execute_result"
    }
   ],
   "source": [
    "df_copy.dtypes"
   ]
  },
  {
   "cell_type": "code",
   "execution_count": 7,
   "id": "f2211c9d",
   "metadata": {},
   "outputs": [],
   "source": [
    "df_copy = df_copy.drop(list(df_copy[df_copy['quant'] == 'quant'].index), axis=0)"
   ]
  },
  {
   "cell_type": "code",
   "execution_count": 8,
   "id": "98447eb8",
   "metadata": {},
   "outputs": [],
   "source": [
    "df_copy[['uniprice', 'totprice', 'invo_price', 'quant']] = df_copy[['uniprice', 'totprice', 'invo_price', 'quant']].astype('float64')\n",
    "df_copy['datetime_UTC_8'] = df_copy['datetime_UTC_8'].astype('datetime64')"
   ]
  },
  {
   "cell_type": "code",
   "execution_count": 9,
   "id": "60cd7332",
   "metadata": {},
   "outputs": [],
   "source": [
    "df_copy = df_copy[df_copy['uniprice'] <= 10000]\n",
    "df_copy = df_copy[df_copy['uniprice'] > 0]"
   ]
  },
  {
   "cell_type": "code",
   "execution_count": 10,
   "id": "65e75a78",
   "metadata": {},
   "outputs": [],
   "source": [
    "# df_copy.to_csv('final_project_data.csv', index=False, encoding='utf-8', header=True)"
   ]
  },
  {
   "cell_type": "code",
   "execution_count": 14,
   "id": "d36f98be",
   "metadata": {},
   "outputs": [
    {
     "data": {
      "text/html": [
       "<div>\n",
       "<style scoped>\n",
       "    .dataframe tbody tr th:only-of-type {\n",
       "        vertical-align: middle;\n",
       "    }\n",
       "\n",
       "    .dataframe tbody tr th {\n",
       "        vertical-align: top;\n",
       "    }\n",
       "\n",
       "    .dataframe thead th {\n",
       "        text-align: right;\n",
       "    }\n",
       "</style>\n",
       "<table border=\"1\" class=\"dataframe\">\n",
       "  <thead>\n",
       "    <tr style=\"text-align: right;\">\n",
       "      <th></th>\n",
       "      <th>channel</th>\n",
       "      <th>name</th>\n",
       "      <th>quant</th>\n",
       "      <th>uniprice</th>\n",
       "      <th>totprice</th>\n",
       "      <th>invo_price</th>\n",
       "    </tr>\n",
       "  </thead>\n",
       "  <tbody>\n",
       "    <tr>\n",
       "      <th>0</th>\n",
       "      <td>寶雅國際</td>\n",
       "      <td>!EP天然豬鬃毛澡刷PA-014</td>\n",
       "      <td>1.005208</td>\n",
       "      <td>79.0</td>\n",
       "      <td>79.411458</td>\n",
       "      <td>746.671875</td>\n",
       "    </tr>\n",
       "    <tr>\n",
       "      <th>1</th>\n",
       "      <td>寶雅國際</td>\n",
       "      <td>!EP普普印花澡巾PA-6643</td>\n",
       "      <td>1.010204</td>\n",
       "      <td>49.0</td>\n",
       "      <td>49.500000</td>\n",
       "      <td>779.591837</td>\n",
       "    </tr>\n",
       "    <tr>\n",
       "      <th>2</th>\n",
       "      <td>寶雅國際</td>\n",
       "      <td>!EP條紋澡巾PA-6011</td>\n",
       "      <td>1.000000</td>\n",
       "      <td>49.0</td>\n",
       "      <td>49.000000</td>\n",
       "      <td>768.883333</td>\n",
       "    </tr>\n",
       "  </tbody>\n",
       "</table>\n",
       "</div>"
      ],
      "text/plain": [
       "  channel              name     quant  uniprice   totprice  invo_price\n",
       "0    寶雅國際  !EP天然豬鬃毛澡刷PA-014  1.005208      79.0  79.411458  746.671875\n",
       "1    寶雅國際  !EP普普印花澡巾PA-6643  1.010204      49.0  49.500000  779.591837\n",
       "2    寶雅國際    !EP條紋澡巾PA-6011  1.000000      49.0  49.000000  768.883333"
      ]
     },
     "execution_count": 14,
     "metadata": {},
     "output_type": "execute_result"
    }
   ],
   "source": [
    "channels_product = df_copy.groupby(by=['channel', 'name'], as_index=False).mean()\n",
    "channels_product = channels_product[channels_product['uniprice'] <= 500]\n",
    "channels_product.head(3)"
   ]
  },
  {
   "cell_type": "code",
   "execution_count": 15,
   "id": "57c8a51b",
   "metadata": {},
   "outputs": [],
   "source": [
    "# channels_product.to_excel('通路商品單價.xlsx', index=False, encoding='utf-8')"
   ]
  },
  {
   "cell_type": "code",
   "execution_count": 18,
   "id": "c3d9751d",
   "metadata": {},
   "outputs": [
    {
     "data": {
      "text/html": [
       "<div>\n",
       "<style scoped>\n",
       "    .dataframe tbody tr th:only-of-type {\n",
       "        vertical-align: middle;\n",
       "    }\n",
       "\n",
       "    .dataframe tbody tr th {\n",
       "        vertical-align: top;\n",
       "    }\n",
       "\n",
       "    .dataframe thead th {\n",
       "        text-align: right;\n",
       "    }\n",
       "</style>\n",
       "<table border=\"1\" class=\"dataframe\">\n",
       "  <thead>\n",
       "    <tr style=\"text-align: right;\">\n",
       "      <th></th>\n",
       "      <th>channel</th>\n",
       "      <th>deviceid</th>\n",
       "      <th>invo_idx</th>\n",
       "      <th>quant</th>\n",
       "      <th>totprice</th>\n",
       "    </tr>\n",
       "  </thead>\n",
       "  <tbody>\n",
       "    <tr>\n",
       "      <th>0</th>\n",
       "      <td>寶雅國際</td>\n",
       "      <td>0000522bab667034d38fcdeaedd21f374bc69953</td>\n",
       "      <td>5020156</td>\n",
       "      <td>3.0</td>\n",
       "      <td>727.0</td>\n",
       "    </tr>\n",
       "    <tr>\n",
       "      <th>1</th>\n",
       "      <td>寶雅國際</td>\n",
       "      <td>0000522bab667034d38fcdeaedd21f374bc69953</td>\n",
       "      <td>25526549</td>\n",
       "      <td>6.0</td>\n",
       "      <td>535.0</td>\n",
       "    </tr>\n",
       "    <tr>\n",
       "      <th>2</th>\n",
       "      <td>寶雅國際</td>\n",
       "      <td>0000522bab667034d38fcdeaedd21f374bc69953</td>\n",
       "      <td>25526549</td>\n",
       "      <td>2.0</td>\n",
       "      <td>143.0</td>\n",
       "    </tr>\n",
       "    <tr>\n",
       "      <th>3</th>\n",
       "      <td>寶雅國際</td>\n",
       "      <td>000070dfd2e4130d6448b859cb4d36d438aa616d</td>\n",
       "      <td>48089638</td>\n",
       "      <td>3.0</td>\n",
       "      <td>658.0</td>\n",
       "    </tr>\n",
       "    <tr>\n",
       "      <th>4</th>\n",
       "      <td>寶雅國際</td>\n",
       "      <td>00009323d067515e0ecee7fb10902b08870dc67d</td>\n",
       "      <td>30107707</td>\n",
       "      <td>2.0</td>\n",
       "      <td>158.0</td>\n",
       "    </tr>\n",
       "  </tbody>\n",
       "</table>\n",
       "</div>"
      ],
      "text/plain": [
       "  channel                                  deviceid  invo_idx  quant  totprice\n",
       "0    寶雅國際  0000522bab667034d38fcdeaedd21f374bc69953   5020156    3.0     727.0\n",
       "1    寶雅國際  0000522bab667034d38fcdeaedd21f374bc69953  25526549    6.0     535.0\n",
       "2    寶雅國際  0000522bab667034d38fcdeaedd21f374bc69953  25526549    2.0     143.0\n",
       "3    寶雅國際  000070dfd2e4130d6448b859cb4d36d438aa616d  48089638    3.0     658.0\n",
       "4    寶雅國際  00009323d067515e0ecee7fb10902b08870dc67d  30107707    2.0     158.0"
      ]
     },
     "execution_count": 18,
     "metadata": {},
     "output_type": "execute_result"
    }
   ],
   "source": [
    "invo_aggregate = df_copy.groupby(by=['channel', 'deviceid', 'invo_idx'], as_index=False).sum().drop(['uniprice', 'invo_price'], axis=1)\n",
    "invo_aggregate.head(5)"
   ]
  },
  {
   "cell_type": "code",
   "execution_count": 22,
   "id": "b6b30a10",
   "metadata": {},
   "outputs": [
    {
     "data": {
      "text/html": [
       "<div>\n",
       "<style scoped>\n",
       "    .dataframe tbody tr th:only-of-type {\n",
       "        vertical-align: middle;\n",
       "    }\n",
       "\n",
       "    .dataframe tbody tr th {\n",
       "        vertical-align: top;\n",
       "    }\n",
       "\n",
       "    .dataframe thead th {\n",
       "        text-align: right;\n",
       "    }\n",
       "</style>\n",
       "<table border=\"1\" class=\"dataframe\">\n",
       "  <thead>\n",
       "    <tr style=\"text-align: right;\">\n",
       "      <th></th>\n",
       "      <th>channel</th>\n",
       "      <th>size</th>\n",
       "    </tr>\n",
       "  </thead>\n",
       "  <tbody>\n",
       "    <tr>\n",
       "      <th>0</th>\n",
       "      <td>寶雅國際</td>\n",
       "      <td>2.110122</td>\n",
       "    </tr>\n",
       "    <tr>\n",
       "      <th>1</th>\n",
       "      <td>小三美日</td>\n",
       "      <td>1.279194</td>\n",
       "    </tr>\n",
       "    <tr>\n",
       "      <th>2</th>\n",
       "      <td>屈臣氏</td>\n",
       "      <td>1.963823</td>\n",
       "    </tr>\n",
       "    <tr>\n",
       "      <th>3</th>\n",
       "      <td>康是美</td>\n",
       "      <td>1.891966</td>\n",
       "    </tr>\n",
       "  </tbody>\n",
       "</table>\n",
       "</div>"
      ],
      "text/plain": [
       "  channel      size\n",
       "0    寶雅國際  2.110122\n",
       "1    小三美日  1.279194\n",
       "2     屈臣氏  1.963823\n",
       "3     康是美  1.891966"
      ]
     },
     "execution_count": 22,
     "metadata": {},
     "output_type": "execute_result"
    }
   ],
   "source": [
    "# 消費頻次\n",
    "channels_freq = invo_aggregate.groupby(by=['channel', 'deviceid'], as_index=False).size()\n",
    "channels_freq = channels_freq.groupby(by='channel', as_index=False).mean()\n",
    "# channels_freq = channels_freq.rename(columns = {'invo_idx': 'avg_freq'})\n",
    "channels_freq.head(5)"
   ]
  },
  {
   "cell_type": "code",
   "execution_count": 46,
   "id": "9c99a2c5",
   "metadata": {},
   "outputs": [
    {
     "data": {
      "text/html": [
       "<div>\n",
       "<style scoped>\n",
       "    .dataframe tbody tr th:only-of-type {\n",
       "        vertical-align: middle;\n",
       "    }\n",
       "\n",
       "    .dataframe tbody tr th {\n",
       "        vertical-align: top;\n",
       "    }\n",
       "\n",
       "    .dataframe thead th {\n",
       "        text-align: right;\n",
       "    }\n",
       "</style>\n",
       "<table border=\"1\" class=\"dataframe\">\n",
       "  <thead>\n",
       "    <tr style=\"text-align: right;\">\n",
       "      <th></th>\n",
       "      <th>channel</th>\n",
       "      <th>avg_goods_num</th>\n",
       "    </tr>\n",
       "  </thead>\n",
       "  <tbody>\n",
       "    <tr>\n",
       "      <th>0</th>\n",
       "      <td>寶雅國際</td>\n",
       "      <td>4.224635</td>\n",
       "    </tr>\n",
       "    <tr>\n",
       "      <th>1</th>\n",
       "      <td>小三美日</td>\n",
       "      <td>2.261585</td>\n",
       "    </tr>\n",
       "    <tr>\n",
       "      <th>2</th>\n",
       "      <td>屈臣氏</td>\n",
       "      <td>2.524744</td>\n",
       "    </tr>\n",
       "    <tr>\n",
       "      <th>3</th>\n",
       "      <td>康是美</td>\n",
       "      <td>2.260013</td>\n",
       "    </tr>\n",
       "  </tbody>\n",
       "</table>\n",
       "</div>"
      ],
      "text/plain": [
       "  channel  avg_goods_num\n",
       "0    寶雅國際       4.224635\n",
       "1    小三美日       2.261585\n",
       "2     屈臣氏       2.524744\n",
       "3     康是美       2.260013"
      ]
     },
     "execution_count": 46,
     "metadata": {},
     "output_type": "execute_result"
    }
   ],
   "source": [
    "# 單次消費品項數\n",
    "channels_goods_num = df_copy.groupby(by=['channel', 'invo_idx'], as_index=False).size()\n",
    "channels_goods_num = channels_goods_num.groupby(by='channel', as_index=False).mean()\n",
    "channels_goods_num = channels_goods_num.rename(columns = {'size': 'avg_goods_num'})\n",
    "channels_goods_num.head(5)"
   ]
  },
  {
   "cell_type": "code",
   "execution_count": 47,
   "id": "021a9845",
   "metadata": {},
   "outputs": [
    {
     "data": {
      "text/html": [
       "<div>\n",
       "<style scoped>\n",
       "    .dataframe tbody tr th:only-of-type {\n",
       "        vertical-align: middle;\n",
       "    }\n",
       "\n",
       "    .dataframe tbody tr th {\n",
       "        vertical-align: top;\n",
       "    }\n",
       "\n",
       "    .dataframe thead th {\n",
       "        text-align: right;\n",
       "    }\n",
       "</style>\n",
       "<table border=\"1\" class=\"dataframe\">\n",
       "  <thead>\n",
       "    <tr style=\"text-align: right;\">\n",
       "      <th></th>\n",
       "      <th>channel</th>\n",
       "      <th>med_totprice</th>\n",
       "    </tr>\n",
       "  </thead>\n",
       "  <tbody>\n",
       "    <tr>\n",
       "      <th>0</th>\n",
       "      <td>寶雅國際</td>\n",
       "      <td>297.00</td>\n",
       "    </tr>\n",
       "    <tr>\n",
       "      <th>1</th>\n",
       "      <td>小三美日</td>\n",
       "      <td>512.00</td>\n",
       "    </tr>\n",
       "    <tr>\n",
       "      <th>2</th>\n",
       "      <td>屈臣氏</td>\n",
       "      <td>302.64</td>\n",
       "    </tr>\n",
       "    <tr>\n",
       "      <th>3</th>\n",
       "      <td>康是美</td>\n",
       "      <td>327.00</td>\n",
       "    </tr>\n",
       "  </tbody>\n",
       "</table>\n",
       "</div>"
      ],
      "text/plain": [
       "  channel  med_totprice\n",
       "0    寶雅國際        297.00\n",
       "1    小三美日        512.00\n",
       "2     屈臣氏        302.64\n",
       "3     康是美        327.00"
      ]
     },
     "execution_count": 47,
     "metadata": {},
     "output_type": "execute_result"
    }
   ],
   "source": [
    "# 單次消費總金額\n",
    "channels_totprice = invo_aggregate.groupby(by='channel', as_index=False).median()\n",
    "channels_totprice = channels_totprice.rename(columns = {'totprice': 'med_totprice'})\n",
    "channels_totprice.head(5)"
   ]
  },
  {
   "cell_type": "code",
   "execution_count": 48,
   "id": "3ed8821a",
   "metadata": {},
   "outputs": [
    {
     "data": {
      "text/html": [
       "<div>\n",
       "<style scoped>\n",
       "    .dataframe tbody tr th:only-of-type {\n",
       "        vertical-align: middle;\n",
       "    }\n",
       "\n",
       "    .dataframe tbody tr th {\n",
       "        vertical-align: top;\n",
       "    }\n",
       "\n",
       "    .dataframe thead th {\n",
       "        text-align: right;\n",
       "    }\n",
       "</style>\n",
       "<table border=\"1\" class=\"dataframe\">\n",
       "  <thead>\n",
       "    <tr style=\"text-align: right;\">\n",
       "      <th></th>\n",
       "      <th>channel</th>\n",
       "      <th>avg_freq</th>\n",
       "      <th>avg_goods_num</th>\n",
       "      <th>med_totprice</th>\n",
       "    </tr>\n",
       "  </thead>\n",
       "  <tbody>\n",
       "    <tr>\n",
       "      <th>0</th>\n",
       "      <td>寶雅國際</td>\n",
       "      <td>2.110122</td>\n",
       "      <td>4.224635</td>\n",
       "      <td>297.00</td>\n",
       "    </tr>\n",
       "    <tr>\n",
       "      <th>1</th>\n",
       "      <td>小三美日</td>\n",
       "      <td>1.279194</td>\n",
       "      <td>2.261585</td>\n",
       "      <td>512.00</td>\n",
       "    </tr>\n",
       "    <tr>\n",
       "      <th>2</th>\n",
       "      <td>屈臣氏</td>\n",
       "      <td>1.963823</td>\n",
       "      <td>2.524744</td>\n",
       "      <td>302.64</td>\n",
       "    </tr>\n",
       "    <tr>\n",
       "      <th>3</th>\n",
       "      <td>康是美</td>\n",
       "      <td>1.891966</td>\n",
       "      <td>2.260013</td>\n",
       "      <td>327.00</td>\n",
       "    </tr>\n",
       "  </tbody>\n",
       "</table>\n",
       "</div>"
      ],
      "text/plain": [
       "  channel  avg_freq  avg_goods_num  med_totprice\n",
       "0    寶雅國際  2.110122       4.224635        297.00\n",
       "1    小三美日  1.279194       2.261585        512.00\n",
       "2     屈臣氏  1.963823       2.524744        302.64\n",
       "3     康是美  1.891966       2.260013        327.00"
      ]
     },
     "execution_count": 48,
     "metadata": {},
     "output_type": "execute_result"
    }
   ],
   "source": [
    "channels_consumer_profile = channels_freq.merge(channels_goods_num, how='inner', on='channel').merge(channels_totprice, how='inner', on='channel')\n",
    "channels_consumer_profile"
   ]
  },
  {
   "cell_type": "code",
   "execution_count": 49,
   "id": "515200b5",
   "metadata": {},
   "outputs": [],
   "source": [
    "# channels_consumer_profile.to_excel('消費者輪廓.xlsx', index=False, encoding='utf-8')"
   ]
  },
  {
   "cell_type": "code",
   "execution_count": null,
   "id": "d4e47b62",
   "metadata": {},
   "outputs": [],
   "source": []
  }
 ],
 "metadata": {
  "kernelspec": {
   "display_name": "Python 3",
   "language": "python",
   "name": "python3"
  },
  "language_info": {
   "codemirror_mode": {
    "name": "ipython",
    "version": 3
   },
   "file_extension": ".py",
   "mimetype": "text/x-python",
   "name": "python",
   "nbconvert_exporter": "python",
   "pygments_lexer": "ipython3",
   "version": "3.9.5"
  }
 },
 "nbformat": 4,
 "nbformat_minor": 5
}
